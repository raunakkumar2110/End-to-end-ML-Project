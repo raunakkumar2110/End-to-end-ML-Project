{
 "cells": [
  {
   "cell_type": "code",
   "execution_count": 14,
   "metadata": {},
   "outputs": [],
   "source": [
    "import os"
   ]
  },
  {
   "cell_type": "code",
   "execution_count": 15,
   "metadata": {},
   "outputs": [
    {
     "data": {
      "text/plain": [
       "'d:\\\\Personal\\\\Projects_Computer_Science_And_Engineering\\\\RaunakMLProjects\\\\End-to-end-ML-Project'"
      ]
     },
     "execution_count": 15,
     "metadata": {},
     "output_type": "execute_result"
    }
   ],
   "source": [
    "pwd"
   ]
  },
  {
   "cell_type": "code",
   "execution_count": 18,
   "metadata": {},
   "outputs": [
    {
     "name": "stdout",
     "output_type": "stream",
     "text": [
      "d:\\Personal\\Projects_Computer_Science_And_Engineering\\RaunakMLProjects\\End-to-end-ML-Project\n"
     ]
    },
    {
     "name": "stderr",
     "output_type": "stream",
     "text": [
      "d:\\Personal\\Projects_Computer_Science_And_Engineering\\RaunakMLProjects\\venv\\Lib\\site-packages\\IPython\\core\\magics\\osm.py:417: UserWarning: This is now an optional IPython functionality, setting dhist requires you to install the `pickleshare` library.\n",
      "  self.shell.db['dhist'] = compress_dhist(dhist)[-100:]\n"
     ]
    }
   ],
   "source": []
  },
  {
   "cell_type": "code",
   "execution_count": 16,
   "metadata": {},
   "outputs": [],
   "source": [
    "os.chdir(\"../\")"
   ]
  },
  {
   "cell_type": "code",
   "execution_count": 19,
   "metadata": {},
   "outputs": [
    {
     "data": {
      "text/plain": [
       "'d:\\\\Personal\\\\Projects_Computer_Science_And_Engineering\\\\RaunakMLProjects\\\\End-to-end-ML-Project'"
      ]
     },
     "execution_count": 19,
     "metadata": {},
     "output_type": "execute_result"
    }
   ],
   "source": [
    "pwd"
   ]
  },
  {
   "cell_type": "code",
   "execution_count": 79,
   "metadata": {},
   "outputs": [],
   "source": [
    "from dataclasses import dataclass\n",
    "from pathlib import Path\n",
    "from typing import List\n",
    "\n",
    "@dataclass(frozen=True)\n",
    "class ModelTrainerConfig:\n",
    "    # Define the fields with type annotations\n",
    "    root_dir: Path\n",
    "    train_data_path: Path\n",
    "    test_data_path: Path   #from confi\n",
    "    model_name: str     #from config\n",
    "    random_state: int   #from param\n",
    "    n_estimators: int   #from param\n",
    "    target_column: str  #from schema\n",
    "    selected_features: List[str]\n"
   ]
  },
  {
   "cell_type": "code",
   "execution_count": 80,
   "metadata": {},
   "outputs": [],
   "source": [
    "from src.mlProject.constants import *\n",
    "from src.mlProject.utils.common import read_yaml, create_directories"
   ]
  },
  {
   "cell_type": "code",
   "execution_count": 81,
   "metadata": {},
   "outputs": [],
   "source": [
    "class ConfigurationManager:\n",
    "    def __init__(\n",
    "        self,\n",
    "        config_filepath = CONFIG_FILE_PATH,\n",
    "        params_filepath = PARAMS_FILE_PATH,\n",
    "        schema_filepath = SCHEMA_FILE_PATH):\n",
    "\n",
    "        self.config = read_yaml(config_filepath)\n",
    "        self.params = read_yaml(params_filepath)\n",
    "        self.schema = read_yaml(schema_filepath)\n",
    "\n",
    "        create_directories([self.config.artifacts_root])\n",
    "    \n",
    "    def get_model_trainer_config(self) -> ModelTrainerConfig:\n",
    "        config = self.config.model_trainer\n",
    "        params = self.params.RandomForestClassifier\n",
    "        schema =  self.schema.TARGET_COLUMN\n",
    "        selected_features = self.schema.SELECTED_FEATURES\n",
    "\n",
    "        create_directories([config.root_dir])\n",
    "\n",
    "        model_trainer_config = ModelTrainerConfig(\n",
    "            root_dir=config.root_dir,\n",
    "            train_data_path = config.train_data_path,\n",
    "            test_data_path = config.test_data_path,\n",
    "            model_name = config.model_name,\n",
    "            random_state = params.random_state,\n",
    "            n_estimators = params.n_estimators, #change acc\n",
    "            target_column = schema.name,\n",
    "            selected_features=selected_features\n",
    "            \n",
    "        )\n",
    "\n",
    "        return model_trainer_config"
   ]
  },
  {
   "cell_type": "code",
   "execution_count": 82,
   "metadata": {},
   "outputs": [],
   "source": [
    "import os\n",
    "from src.mlProject import logger\n",
    "from sklearn.ensemble import RandomForestClassifier\n",
    "import pandas as pd\n",
    "import joblib\n"
   ]
  },
  {
   "cell_type": "code",
   "execution_count": 83,
   "metadata": {},
   "outputs": [],
   "source": [
    "# should not be used below code \n",
    "# class ModelTrainer:\n",
    "#     def __init__(self, config: ModelTrainerConfig):\n",
    "#         self.config = config\n",
    "\n",
    "\n",
    "    \n",
    "#     def train(self):\n",
    "#         train_data = pd.read_csv(self.config.train_data_path)\n",
    "#         test_data = pd.read_csv(self.config.test_data_path)\n",
    "\n",
    "\n",
    "#         train_x = train_data.drop([self.config.target_column], axis=1)\n",
    "#         test_x = test_data.drop([self.config.target_column], axis=1)\n",
    "#         train_y = train_data[[self.config.target_column]]\n",
    "#         test_y = test_data[[self.config.target_column]]\n",
    "\n",
    "\n",
    "#         rf = RandomForestClassifier(random_state=self.config.random_state, n_estimators=self.config.n_estimators)\n",
    "#         rf.fit(train_x, train_y)\n",
    "\n",
    "#         joblib.dump(rf, os.path.join(self.config.root_dir, self.config.model_name))"
   ]
  },
  {
   "cell_type": "code",
   "execution_count": 84,
   "metadata": {},
   "outputs": [],
   "source": [
    "import pandas as pd\n",
    "import joblib\n",
    "import os\n",
    "from sklearn.ensemble import RandomForestClassifier\n",
    "\n",
    "class ModelTrainer:\n",
    "    def __init__(self, config: ModelTrainerConfig):\n",
    "        self.config = config\n",
    "\n",
    "    def train(self):\n",
    "        # Load data\n",
    "        train_data = pd.read_csv(self.config.train_data_path)\n",
    "        test_data = pd.read_csv(self.config.test_data_path)\n",
    "\n",
    "        # Get selected features and target column from the config\n",
    "        selected_features = self.config.selected_features\n",
    "        target_column = self.config.target_column\n",
    "\n",
    "        # Ensure that the selected features are present in the data\n",
    "        for feature in selected_features:\n",
    "            if feature not in train_data.columns:\n",
    "                raise ValueError(f\"Feature column '{feature}' not found in the dataset\")\n",
    "\n",
    "        # Prepare train and test data (select only the defined feature columns)\n",
    "        train_x = train_data[selected_features]\n",
    "        test_x = test_data[selected_features]\n",
    "        train_y = train_data[target_column]\n",
    "        test_y = test_data[target_column]\n",
    "\n",
    "        # Train the model (Random Forest in this case)\n",
    "        rf = RandomForestClassifier(random_state=self.config.random_state, n_estimators=self.config.n_estimators)\n",
    "        rf.fit(train_x, train_y)\n",
    "\n",
    "        # Save the trained model\n",
    "        joblib.dump(rf, os.path.join(self.config.root_dir, self.config.model_name),compress=(\"zlib\",3)) #here aadded code for compression\n",
    "\n",
    "        print(\"Model training complete.\")\n"
   ]
  },
  {
   "cell_type": "code",
   "execution_count": null,
   "metadata": {},
   "outputs": [],
   "source": []
  },
  {
   "cell_type": "code",
   "execution_count": 85,
   "metadata": {},
   "outputs": [
    {
     "name": "stdout",
     "output_type": "stream",
     "text": [
      "[2024-12-31 14:06:20,993: INFO: common: yaml file: config\\config.yaml loaded successfully]\n",
      "[2024-12-31 14:06:20,994: INFO: common: yaml file: params.yaml loaded successfully]\n",
      "[2024-12-31 14:06:20,998: INFO: common: yaml file: schema.yaml loaded successfully]\n",
      "[2024-12-31 14:06:20,999: INFO: common: created directory at: artifacts]\n",
      "[2024-12-31 14:06:21,000: INFO: common: created directory at: artifacts/model_trainer]\n",
      "Model training complete.\n"
     ]
    }
   ],
   "source": [
    "#pipeline\n",
    "try:\n",
    "    config = ConfigurationManager()\n",
    "    model_trainer_config = config.get_model_trainer_config()\n",
    "    model_trainer_config = ModelTrainer(config=model_trainer_config)\n",
    "    model_trainer_config.train()\n",
    "except Exception as e:\n",
    "    raise e"
   ]
  },
  {
   "cell_type": "code",
   "execution_count": null,
   "metadata": {},
   "outputs": [],
   "source": []
  }
 ],
 "metadata": {
  "kernelspec": {
   "display_name": "venv",
   "language": "python",
   "name": "python3"
  },
  "language_info": {
   "codemirror_mode": {
    "name": "ipython",
    "version": 3
   },
   "file_extension": ".py",
   "mimetype": "text/x-python",
   "name": "python",
   "nbconvert_exporter": "python",
   "pygments_lexer": "ipython3",
   "version": "3.13.1"
  }
 },
 "nbformat": 4,
 "nbformat_minor": 2
}
