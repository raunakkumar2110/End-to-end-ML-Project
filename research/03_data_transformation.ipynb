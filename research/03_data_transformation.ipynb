{
 "cells": [
  {
   "cell_type": "code",
   "execution_count": 3,
   "metadata": {},
   "outputs": [],
   "source": [
    "import os"
   ]
  },
  {
   "cell_type": "code",
   "execution_count": 4,
   "metadata": {},
   "outputs": [
    {
     "data": {
      "text/plain": [
       "'d:\\\\Personal\\\\Projects_Computer_Science_And_Engineering\\\\RaunakMLProjects\\\\End-to-end-ML-Project\\\\research'"
      ]
     },
     "execution_count": 4,
     "metadata": {},
     "output_type": "execute_result"
    }
   ],
   "source": [
    "pwd"
   ]
  },
  {
   "cell_type": "code",
   "execution_count": 5,
   "metadata": {},
   "outputs": [],
   "source": [
    "os.chdir(\"../\")"
   ]
  },
  {
   "cell_type": "code",
   "execution_count": 6,
   "metadata": {},
   "outputs": [
    {
     "data": {
      "text/plain": [
       "'d:\\\\Personal\\\\Projects_Computer_Science_And_Engineering\\\\RaunakMLProjects\\\\End-to-end-ML-Project'"
      ]
     },
     "execution_count": 6,
     "metadata": {},
     "output_type": "execute_result"
    }
   ],
   "source": [
    "pwd"
   ]
  },
  {
   "cell_type": "code",
   "execution_count": 14,
   "metadata": {},
   "outputs": [],
   "source": [
    "from dataclasses import dataclass\n",
    "from pathlib import Path\n",
    "\n",
    "@dataclass(frozen=True)\n",
    "class DataTransformationConfig:\n",
    "    # Define the fields with type annotations\n",
    "    root_dir: Path\n",
    "    data_path: Path"
   ]
  },
  {
   "cell_type": "code",
   "execution_count": 15,
   "metadata": {},
   "outputs": [],
   "source": [
    "from src.mlProject.constants import *\n",
    "from src.mlProject.utils.common import read_yaml, create_directories"
   ]
  },
  {
   "cell_type": "code",
   "execution_count": 16,
   "metadata": {},
   "outputs": [],
   "source": [
    "class ConfigurationManager:\n",
    "    def __init__(\n",
    "        self,\n",
    "        config_filepath = CONFIG_FILE_PATH,\n",
    "        params_filepath = PARAMS_FILE_PATH,\n",
    "        schema_filepath = SCHEMA_FILE_PATH):\n",
    "\n",
    "        self.config = read_yaml(config_filepath)\n",
    "        self.params = read_yaml(params_filepath)\n",
    "        self.schema = read_yaml(schema_filepath)\n",
    "\n",
    "        create_directories([self.config.artifacts_root])\n",
    "\n",
    "    \n",
    "    def get_data_transformation_config(self) -> DataTransformationConfig:\n",
    "        config = self.config.data_transformation\n",
    "\n",
    "        create_directories([config.root_dir])\n",
    "\n",
    "        data_transformation_config = DataTransformationConfig(\n",
    "            root_dir=config.root_dir,\n",
    "            data_path=config.data_path,\n",
    "        )\n",
    "\n",
    "        return data_transformation_config"
   ]
  },
  {
   "cell_type": "code",
   "execution_count": 17,
   "metadata": {},
   "outputs": [],
   "source": [
    "import os\n",
    "from src.mlProject import logger\n",
    "from sklearn.model_selection import train_test_split\n",
    "import pandas as pd\n",
    "import numpy as np"
   ]
  },
  {
   "cell_type": "code",
   "execution_count": 24,
   "metadata": {},
   "outputs": [],
   "source": [
    "import pandas as pd\n",
    "import numpy as np\n",
    "import os\n",
    "from sklearn.model_selection import train_test_split\n",
    "import logging\n",
    "from imblearn.over_sampling import SMOTE\n",
    "\n",
    "# Assuming logger is set up\n",
    "logger = logging.getLogger(__name__)\n",
    "\n",
    "class DataTransformation:\n",
    "    def __init__(self, config):\n",
    "        self.config = config\n",
    "\n",
    "    ## Log Transformation Method\n",
    "    def log_transform(self, column_names):\n",
    "        \"\"\"\n",
    "        Applies log transformation to specified column(s) in the data.\n",
    "        Args:\n",
    "            column_names (str or list): The column(s) to apply the log transformation on.\n",
    "        \"\"\"\n",
    "        data = pd.read_csv(self.config.data_path)\n",
    "\n",
    "        # If a single column name is passed (string), convert it to a list\n",
    "        if isinstance(column_names, str):\n",
    "            column_names = [column_names]\n",
    "\n",
    "        # Apply log transformation to each specified column\n",
    "        for column_name in column_names:\n",
    "            if column_name in data.columns:\n",
    "                data[column_name] = np.log1p(data[column_name])  # log1p applies log(x + 1)\n",
    "                logger.info(f\"Applied log transformation on column: {column_name}\")\n",
    "            else:\n",
    "                logger.warning(f\"Column {column_name} not found in the dataset.\")\n",
    "        \n",
    "        return data\n",
    "\n",
    "    ## Outlier Removal Method\n",
    "    def remove_outliers(self, df, columns):\n",
    "        \"\"\"\n",
    "        Removes outliers from the specified columns using the IQR method.\n",
    "        Args:\n",
    "            df (pd.DataFrame): The dataset.\n",
    "            columns (list): List of column names to check for outliers.\n",
    "        \"\"\"\n",
    "        for column in columns:\n",
    "            Q1 = df[column].quantile(0.25)  # First quartile (25th percentile)\n",
    "            Q3 = df[column].quantile(0.75)  # Third quartile (75th percentile)\n",
    "            IQR = Q3 - Q1                   # Interquartile range\n",
    "\n",
    "            # Define the outlier boundaries\n",
    "            lower_bound = Q1 - 1.5 * IQR\n",
    "            upper_bound = Q3 + 1.5 * IQR\n",
    "\n",
    "            # Remove outliers\n",
    "            df = df[(df[column] >= lower_bound) & (df[column] <= upper_bound)]\n",
    "            logger.info(f\"Outliers removed from column: {column}\")\n",
    "\n",
    "        return df\n",
    "\n",
    "    ## Preprocessing Method that combines log transformation, outlier removal, and train-test split\n",
    "    def preprocess(self):\n",
    "        # Step 1: Load data\n",
    "        data = pd.read_csv(self.config.data_path)\n",
    "\n",
    "        # Step 2: Apply log transformation to specified columns\n",
    "        columns_to_transform = ['BMI']  # Replace with your columns to apply log transformation\n",
    "        data = self.log_transform(columns_to_transform)\n",
    "\n",
    "        # Step 3: Remove outliers from specified columns after log transformation\n",
    "        columns_to_check_for_outliers = ['BMI', 'GenHlth', 'PhysHlth', 'MentHlth']  # Replace with your columns\n",
    "        data = self.remove_outliers(data, columns_to_check_for_outliers)\n",
    "\n",
    "        # Step 4: Separate features and target variable\n",
    "        target_column = 'Diabetes_012'  # Replace with your target column\n",
    "        if target_column not in data.columns:\n",
    "            raise ValueError(f\"Target column {target_column} not found in the dataset\")\n",
    "\n",
    "        X = data.drop(columns=[target_column])\n",
    "        y = data[target_column]\n",
    "\n",
    "        # Step 3: Split into training and testing sets (before applying SMOTE)\n",
    "        X_train, X_test, y_train, y_test = train_test_split(\n",
    "            X, y, test_size=0.3, random_state=42, stratify=y\n",
    "        )\n",
    "\n",
    "        # Step 4: Print class frequency before resampling (in the training set)\n",
    "        print(\"\\nClass frequency in data before resampling:\")\n",
    "        print(y.value_counts())\n",
    "        logger.info(f\"Class frequency in data before resampling: {y.value_counts().to_dict()}\")\n",
    "\n",
    "        # Step 5: Apply SMOTE only on the training data\n",
    "        smote = SMOTE(random_state=42)\n",
    "        X_train_resampled, y_train_resampled = smote.fit_resample(X_train, y_train)\n",
    "\n",
    "        # Step 6: Print class frequency after resampling\n",
    "        print(\"\\nClass frequency in training set after resampling:\")\n",
    "        print(pd.Series(y_train_resampled).value_counts())\n",
    "        logger.info(f\"Class frequency in training set after resampling: {pd.Series(y_train_resampled).value_counts().to_dict()}\")\n",
    "\n",
    "        # Step 7: Combine features and target for saving\n",
    "        train = pd.concat([X_train_resampled, y_train_resampled], axis=1)\n",
    "        test = pd.concat([X_test, y_test], axis=1)\n",
    "\n",
    "        # Step 8: Save train and test datasets\n",
    "        train.to_csv(os.path.join(self.config.root_dir, \"train.csv\"), index=False)\n",
    "        test.to_csv(os.path.join(self.config.root_dir, \"test.csv\"), index=False)\n",
    "\n",
    "        logger.info(\"Split data into training and test sets after applying SMOTE to the training set only\")\n",
    "        logger.info(\"SMOTE Applied Successfully:\")\n",
    "        logger.info(f\"Train shape: {train.shape}\")\n",
    "        logger.info(f\"Test shape: {test.shape}\")\n",
    "\n",
    "        print(\"\\nTraining and testing datasets saved.\")\n",
    "        print(f\"Train shape: {train.shape}\")\n",
    "        print(f\"Test shape: {test.shape}\")"
   ]
  },
  {
   "cell_type": "code",
   "execution_count": 25,
   "metadata": {},
   "outputs": [
    {
     "name": "stdout",
     "output_type": "stream",
     "text": [
      "[2024-12-31 12:35:09,192: INFO: common: yaml file: config\\config.yaml loaded successfully]\n",
      "[2024-12-31 12:35:09,195: INFO: common: yaml file: params.yaml loaded successfully]\n",
      "[2024-12-31 12:35:09,217: INFO: common: yaml file: schema.yaml loaded successfully]\n",
      "[2024-12-31 12:35:09,220: INFO: common: created directory at: artifacts]\n",
      "[2024-12-31 12:35:09,221: INFO: common: created directory at: artifacts/data_transformation]\n",
      "[2024-12-31 12:35:10,094: INFO: 1315821420: Applied log transformation on column: BMI]\n",
      "[2024-12-31 12:35:10,127: INFO: 1315821420: Outliers removed from column: BMI]\n",
      "[2024-12-31 12:35:10,159: INFO: 1315821420: Outliers removed from column: GenHlth]\n",
      "[2024-12-31 12:35:10,187: INFO: 1315821420: Outliers removed from column: PhysHlth]\n",
      "[2024-12-31 12:35:10,211: INFO: 1315821420: Outliers removed from column: MentHlth]\n",
      "\n",
      "Class frequency in data before resampling:\n",
      "Diabetes_012\n",
      "0.0    147493\n",
      "2.0     18626\n",
      "1.0      2603\n",
      "Name: count, dtype: int64\n",
      "[2024-12-31 12:35:10,355: INFO: 1315821420: Class frequency in data before resampling: {0.0: 147493, 2.0: 18626, 1.0: 2603}]\n",
      "\n",
      "Class frequency in training set after resampling:\n",
      "Diabetes_012\n",
      "0.0    103245\n",
      "1.0    103245\n",
      "2.0    103245\n",
      "Name: count, dtype: int64\n",
      "[2024-12-31 12:35:11,082: INFO: 1315821420: Class frequency in training set after resampling: {0.0: 103245, 1.0: 103245, 2.0: 103245}]\n",
      "[2024-12-31 12:35:16,498: INFO: 1315821420: Split data into training and test sets after applying SMOTE to the training set only]\n",
      "[2024-12-31 12:35:16,498: INFO: 1315821420: Train shape: (309735, 22)]\n",
      "[2024-12-31 12:35:16,499: INFO: 1315821420: Test shape: (50617, 22)]\n",
      "\n",
      "Training and testing datasets saved.\n",
      "Train shape: (309735, 22)\n",
      "Test shape: (50617, 22)\n"
     ]
    }
   ],
   "source": [
    "try:\n",
    "    config = ConfigurationManager()\n",
    "    data_transformation_config = config.get_data_transformation_config()\n",
    "    data_transformation = DataTransformation(config=data_transformation_config)\n",
    "\n",
    "    # Apply log transformation outlier remove and then  train-test splitting smote\n",
    "    data_transformation.preprocess()\n",
    "\n",
    "except Exception as e:\n",
    "    raise e\n"
   ]
  },
  {
   "cell_type": "code",
   "execution_count": 29,
   "metadata": {},
   "outputs": [
    {
     "ename": "TypeError",
     "evalue": "argument of type 'ConfigurationManager' is not iterable",
     "output_type": "error",
     "traceback": [
      "\u001b[1;31m---------------------------------------------------------------------------\u001b[0m",
      "\u001b[1;31mTypeError\u001b[0m                                 Traceback (most recent call last)",
      "Cell \u001b[1;32mIn[29], line 1\u001b[0m\n\u001b[1;32m----> 1\u001b[0m \u001b[38;5;28;01mif\u001b[39;00m \u001b[38;5;124;43m'\u001b[39;49m\u001b[38;5;124;43mdata_transformation\u001b[39;49m\u001b[38;5;124;43m'\u001b[39;49m\u001b[43m \u001b[49m\u001b[38;5;129;43;01min\u001b[39;49;00m\u001b[43m \u001b[49m\u001b[43mconfig\u001b[49m:\n\u001b[0;32m      2\u001b[0m     \u001b[38;5;66;03m# Access the key safely\u001b[39;00m\n\u001b[0;32m      3\u001b[0m     transformation \u001b[38;5;241m=\u001b[39m config[\u001b[38;5;124m'\u001b[39m\u001b[38;5;124mdata_transformation\u001b[39m\u001b[38;5;124m'\u001b[39m]\n\u001b[0;32m      4\u001b[0m \u001b[38;5;28;01melse\u001b[39;00m:\n",
      "\u001b[1;31mTypeError\u001b[0m: argument of type 'ConfigurationManager' is not iterable"
     ]
    }
   ],
   "source": []
  },
  {
   "cell_type": "code",
   "execution_count": null,
   "metadata": {},
   "outputs": [],
   "source": []
  }
 ],
 "metadata": {
  "kernelspec": {
   "display_name": "venv",
   "language": "python",
   "name": "python3"
  },
  "language_info": {
   "codemirror_mode": {
    "name": "ipython",
    "version": 3
   },
   "file_extension": ".py",
   "mimetype": "text/x-python",
   "name": "python",
   "nbconvert_exporter": "python",
   "pygments_lexer": "ipython3",
   "version": "3.13.1"
  }
 },
 "nbformat": 4,
 "nbformat_minor": 2
}
